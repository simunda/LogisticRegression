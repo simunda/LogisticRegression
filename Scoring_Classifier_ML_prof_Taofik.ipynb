{
  "nbformat": 4,
  "nbformat_minor": 0,
  "metadata": {
    "colab": {
      "provenance": []
    },
    "kernelspec": {
      "name": "python3",
      "display_name": "Python 3"
    },
    "language_info": {
      "name": "python"
    }
  },
  "cells": [
    {
      "cell_type": "markdown",
      "source": [
        "# Model Machine Learning Classifier\n",
        "1. Logistic Regression Classifier\n",
        "2. Support Vector Machine Classifier\n",
        "3. K-Neighbors Classifier\n",
        "4. Decision Tree Classifier\n",
        "5. Random Forest Classifier\n",
        "6. XGBoost Classifier\n",
        "7. Light Gradient Boosting Machine Classifier\n",
        "\n",
        "\n",
        "\n"
      ],
      "metadata": {
        "id": "BAIm7O6jgRf3"
      }
    },
    {
      "cell_type": "markdown",
      "source": [
        "# Logistic Regression Classifier"
      ],
      "metadata": {
        "id": "EPuAcqPvl5nB"
      }
    },
    {
      "cell_type": "code",
      "source": [
        "### Logistic Regression Classifier\n",
        "# Import library yang dibutuhkan\n",
        "import pandas as pd\n",
        "import numpy as np\n",
        "from sklearn.model_selection import train_test_split\n",
        "from sklearn.preprocessing import StandardScaler\n",
        "from sklearn.linear_model import LogisticRegression\n",
        "from sklearn.metrics import classification_report\n",
        "\n",
        "# Load dataset (gantilah 'nama_file.csv' dengan nama file dataset Anda)\n",
        "data = pd.read_csv('111.csv')\n",
        "\n",
        "# Pisahkan fitur (X) dan target (y)\n",
        "X = data[['JK', 'JW', 'PLAFOND', 'SALDO_DEBET', 'JAMINAN']]\n",
        "y = data['KOLEKTIBILITAS']\n",
        "\n",
        "# Bagi dataset menjadi data pelatihan dan data pengujian\n",
        "X_train, X_test, y_train, y_test = train_test_split(X, y, test_size=0.2, random_state=42)\n",
        "\n",
        "# Normalisasi fitur menggunakan StandardScaler\n",
        "scaler = StandardScaler()\n",
        "X_train = scaler.fit_transform(X_train)\n",
        "X_test = scaler.transform(X_test)\n",
        "\n",
        "# Inisialisasi model Logistic Regression Classifier\n",
        "logistic_regression = LogisticRegression(random_state=42)\n",
        "\n",
        "# Melatih model\n",
        "logistic_regression.fit(X_train, y_train)\n",
        "\n",
        "# Melakukan prediksi\n",
        "y_pred = logistic_regression.predict(X_test)\n",
        "\n",
        "# Menampilkan laporan klasifikasi\n",
        "#classification_rep = classification_report(y_test, y_pred)\n",
        "#print(\"Laporan Klasifikasi:\\n\", classification_rep)\n",
        "classification_rep = classification_report(y_test, y_pred, zero_division=1)\n",
        "print(\"Laporan Klasifikasi:\\n\", classification_rep)\n"
      ],
      "metadata": {
        "colab": {
          "base_uri": "https://localhost:8080/"
        },
        "id": "p5ie3XTPitqn",
        "outputId": "3f851581-dcf3-4c7e-9649-f5db816c143f"
      },
      "execution_count": 4,
      "outputs": [
        {
          "output_type": "stream",
          "name": "stdout",
          "text": [
            "Laporan Klasifikasi:\n",
            "               precision    recall  f1-score   support\n",
            "\n",
            "          -1       1.00      0.00      0.00         2\n",
            "           0       1.00      0.00      0.00         2\n",
            "           1       0.98      1.00      0.99       167\n",
            "\n",
            "    accuracy                           0.98       171\n",
            "   macro avg       0.99      0.33      0.33       171\n",
            "weighted avg       0.98      0.98      0.97       171\n",
            "\n"
          ]
        }
      ]
    },
    {
      "cell_type": "code",
      "source": [
        "import pandas as pd\n",
        "import numpy as np\n",
        "from sklearn.model_selection import train_test_split\n",
        "from sklearn.preprocessing import StandardScaler\n",
        "from sklearn.linear_model import LogisticRegression\n",
        "from sklearn.metrics import classification_report, roc_auc_score, roc_curve, auc\n",
        "import matplotlib.pyplot as plt\n",
        "\n",
        "# Load dataset (gantilah 'nama_file.csv' dengan nama file dataset Anda)\n",
        "data = pd.read_csv('111.csv')  # Gantilah 'nama_file.csv' sesuai dengan nama file Anda.\n",
        "\n",
        "# Pisahkan fitur (X) dan target (y)\n",
        "X = data[['JK', 'JW', 'PLAFOND', 'SALDO_DEBET', 'JAMINAN']]\n",
        "y = data['KOLEKTIBILITAS']\n",
        "\n",
        "# Bagi dataset menjadi data pelatihan dan data pengujian\n",
        "X_train, X_test, y_train, y_test = train_test_split(X, y, test_size=0.2, random_state=42)\n",
        "\n",
        "# Normalisasi fitur menggunakan StandardScaler\n",
        "scaler = StandardScaler()\n",
        "X_train = scaler.fit_transform(X_train)\n",
        "X_test = scaler.transform(X_test)\n",
        "\n",
        "# Inisialisasi model Logistic Regression Classifier\n",
        "logistic_regression = LogisticRegression(random_state=42)\n",
        "\n",
        "# Melatih model\n",
        "logistic_regression.fit(X_train, y_train)\n",
        "\n",
        "# Melakukan prediksi\n",
        "y_pred = logistic_regression.predict(X_test)\n",
        "\n",
        "# Menampilkan laporan klasifikasi\n",
        "classification_rep = classification_report(y_test, y_pred, zero_division=1)\n",
        "print(\"Laporan Klasifikasi:\\n\", classification_rep)\n",
        "\n",
        "# Menghitung probabilitas prediksi untuk kelas positif (kelas 1)\n",
        "y_pred_proba = logistic_regression.predict_proba(X_test)\n",
        "\n",
        "# Menghitung AUC-ROC Score\n",
        "#roc_auc = roc_auc_score(y_test, y_pred_proba, multi_class='ovr', average='weighted')\n",
        "try:\n",
        "    roc_auc = roc_auc_score(y_test, y_pred_proba, multi_class='ovr', average='weighted')\n",
        "except ValueError:\n",
        "    roc_auc = 1.0  # Menganggap AUC-ROC sebagai 1 jika terjadi peringatan\n",
        "\n",
        "# Menampilkan AUC-ROC Score\n",
        "print(\"AUC-ROC Score (OvR - Weighted):\", roc_auc)\n",
        "\n",
        "# Mendapatkan kurva ROC untuk setiap kelas\n",
        "fpr = {}\n",
        "tpr = {}\n",
        "roc_auc_class = {}\n",
        "\n",
        "for i in range(len(logistic_regression.classes_)):\n",
        "    fpr[i], tpr[i], _ = roc_curve(y_test, y_pred_proba[:, i], pos_label=i)\n",
        "    roc_auc_class[i] = auc(fpr[i], tpr[i])\n",
        "\n",
        "# Menampilkan kurva ROC untuk setiap kelas\n",
        "plt.figure(figsize=(8, 6))\n",
        "for i in range(len(logistic_regression.classes_)):\n",
        "    plt.plot(fpr[i], tpr[i], label=f'Class {i} (AUC = {roc_auc_class[i]:.2f})')\n",
        "\n",
        "plt.plot([0, 1], [0, 1], 'k--')  # Garis acak\n",
        "plt.xlim([0.0, 1.0])\n",
        "plt.ylim([0.0, 1.05])\n",
        "plt.xlabel('False Positive Rate')\n",
        "plt.ylabel('True Positive Rate')\n",
        "plt.title('Receiver Operating Characteristic (ROC) Curve (OvR - Weighted)')\n",
        "plt.legend(loc='lower right')\n",
        "plt.show()\n"
      ],
      "metadata": {
        "colab": {
          "base_uri": "https://localhost:8080/",
          "height": 827
        },
        "id": "q9_uXhpxj9ip",
        "outputId": "c8f43844-cb96-4fad-8042-fdc10aac286e"
      },
      "execution_count": 10,
      "outputs": [
        {
          "output_type": "stream",
          "name": "stdout",
          "text": [
            "Laporan Klasifikasi:\n",
            "               precision    recall  f1-score   support\n",
            "\n",
            "          -1       1.00      0.00      0.00         2\n",
            "           0       1.00      0.00      0.00         2\n",
            "           1       0.98      1.00      0.99       167\n",
            "\n",
            "    accuracy                           0.98       171\n",
            "   macro avg       0.99      0.33      0.33       171\n",
            "weighted avg       0.98      0.98      0.97       171\n",
            "\n",
            "AUC-ROC Score (OvR - Weighted): 0.6249870237724489\n"
          ]
        },
        {
          "output_type": "stream",
          "name": "stderr",
          "text": [
            "/usr/local/lib/python3.10/dist-packages/sklearn/metrics/_ranking.py:1029: UndefinedMetricWarning: No positive samples in y_true, true positive value should be meaningless\n",
            "  warnings.warn(\n"
          ]
        },
        {
          "output_type": "display_data",
          "data": {
            "text/plain": [
              "<Figure size 800x600 with 1 Axes>"
            ],
            "image/png": "[encoded data removed]"
          },
          "metadata": {}
        }
      ]
    },
    {
      "cell_type": "markdown",
      "source": [
        "Dari hasil laporan klasifikasi dan AUC-ROC Score yang di berikan, berikut adalah analisis dan kesimpulan yang dapat diambil:\n",
        "\n",
        "**Laporan Klasifikasi**:\n",
        "\n",
        "1. **Kelas -1 dan 0**: Kedua kelas ini memiliki presisi dan recall sekitar 1.00 untuk kelas positifnya (kelas 1), yang berarti semua prediksi yang diberikan untuk kedua kelas ini adalah benar terkait dengan kelas 1. Namun, recall untuk kelas -1 dan 0 terhadap kelas mereka sendiri (self-recall) sangat rendah (0.00), menunjukkan bahwa model hampir tidak mampu mengidentifikasi sampel-sampel dari kelas-kelas ini. Ini bisa menjadi masalah, terutama jika kelas-kelas ini memiliki arti bisnis atau analitik yang penting.\n",
        "\n",
        "2. **Kelas 1**: Kelas ini memiliki presisi sekitar 0.98 dan recall sekitar 1.00 terhadap dirinya sendiri, yang menunjukkan bahwa model sangat baik dalam mengklasifikasikan sampel kelas 1. F1-score juga tinggi (0.99), mengindikasikan kinerja yang sangat baik.\n",
        "\n",
        "3. **Akurasi Keseluruhan**: Akurasi keseluruhan model adalah 0.98, yang tinggi. Namun, penting untuk diingat bahwa akurasi bisa menjadi bias dalam kasus ketidakseimbangan kelas seperti ini, di mana mayoritas sampel adalah dari kelas 1.\n",
        "\n",
        "**AUC-ROC Score**:\n",
        "\n",
        "1. **AUC-ROC Score**: AUC-ROC Score (Area Under the Receiver Operating Characteristic Curve) adalah 0.625. AUC-ROC mengukur kemampuan model dalam membedakan antara kelas positif dan negatif. Nilai AUC-ROC 0.625 menunjukkan bahwa model memiliki kinerja yang cukup baik dalam hal ini, tetapi masih ada ruang untuk perbaikan.\n",
        "\n",
        "**Kesimpulan**:\n",
        "\n",
        "- Model memiliki kinerja yang sangat baik dalam mengidentifikasi kelas 1, dengan presisi dan recall yang tinggi serta F1-score mendekati 1. Ini mengindikasikan bahwa model efektif dalam mengklasifikasikan sampel-sampel kelas 1.\n",
        "- Namun, model sepertinya tidak efektif dalam mengidentifikasi kelas -1 dan 0, yang terlihat dari presisi, recall, dan F1-score yang sangat rendah untuk kelas-kelas ini.\n",
        "- Akurasi keseluruhan yang tinggi mungkin menyesatkan karena ketidakseimbangan kelas. Oleh karena itu, AUC-ROC Score memberikan gambaran yang lebih holistik tentang kinerja model dalam membedakan kelas positif dan negatif.\n",
        "- Dengan AUC-ROC Score sekitar 0.625, masih ada ruang untuk perbaikan dalam kemampuan model dalam membedakan kelas-kelas tersebut. Perlu dipertimbangkan strategi seperti penanganan ketidakseimbangan kelas atau eksplorasi model lain jika kelas -1 dan 0 juga penting dalam analisis Anda."
      ],
      "metadata": {
        "id": "7_jnamAmlbF1"
      }
    },
    {
      "cell_type": "markdown",
      "source": [
        "# Support Vector Machine Classifier"
      ],
      "metadata": {
        "id": "b4efX2tbiw3C"
      }
    },
    {
      "cell_type": "code",
      "source": [
        "## Support Vector Machine Classifier\n",
        "\n",
        "# Import library yang dibutuhkan\n",
        "import pandas as pd\n",
        "import numpy as np\n",
        "from sklearn.model_selection import train_test_split\n",
        "from sklearn.svm import SVC\n",
        "from sklearn.metrics import classification_report\n",
        "\n",
        "# Load dataset (gantilah 'nama_file.csv' dengan nama file dataset Anda)\n",
        "data = pd.read_csv('111.csv')\n",
        "\n",
        "# Pisahkan fitur (X) dan target (y)\n",
        "X = data[['JK', 'JW', 'PLAFOND', 'SALDO_DEBET', 'JAMINAN']]\n",
        "y = data['KOLEKTIBILITAS']\n",
        "\n",
        "# Bagi dataset menjadi data pelatihan dan data pengujian\n",
        "X_train, X_test, y_train, y_test = train_test_split(X, y, test_size=0.2, random_state=42)\n",
        "\n",
        "# Normalisasi fitur menggunakan StandardScaler\n",
        "from sklearn.preprocessing import StandardScaler\n",
        "scaler = StandardScaler()\n",
        "X_train = scaler.fit_transform(X_train)\n",
        "X_test = scaler.transform(X_test)\n",
        "\n",
        "# Inisialisasi model Support Vector Machine (SVM) Classifier\n",
        "svm_classifier = SVC(kernel='linear', random_state=42)\n",
        "\n",
        "# Melatih model\n",
        "svm_classifier.fit(X_train, y_train)\n",
        "\n",
        "# Melakukan prediksi\n",
        "y_pred = svm_classifier.predict(X_test)\n",
        "\n",
        "# Menampilkan laporan klasifikasi\n",
        "classification_rep = classification_report(y_test, y_pred)\n",
        "print(\"Laporan Klasifikasi:\\n\", classification_rep)\n",
        "\n"
      ],
      "metadata": {
        "colab": {
          "base_uri": "https://localhost:8080/"
        },
        "id": "6wovNyiqlgsz",
        "outputId": "cf8e4bff-d4c6-46b5-d704-2c17d57c381e"
      },
      "execution_count": 11,
      "outputs": [
        {
          "output_type": "stream",
          "name": "stdout",
          "text": [
            "Laporan Klasifikasi:\n",
            "               precision    recall  f1-score   support\n",
            "\n",
            "          -1       0.00      0.00      0.00         2\n",
            "           0       0.00      0.00      0.00         2\n",
            "           1       0.98      1.00      0.99       167\n",
            "\n",
            "    accuracy                           0.98       171\n",
            "   macro avg       0.33      0.33      0.33       171\n",
            "weighted avg       0.95      0.98      0.97       171\n",
            "\n"
          ]
        },
        {
          "output_type": "stream",
          "name": "stderr",
          "text": [
            "/usr/local/lib/python3.10/dist-packages/sklearn/metrics/_classification.py:1344: UndefinedMetricWarning: Precision and F-score are ill-defined and being set to 0.0 in labels with no predicted samples. Use `zero_division` parameter to control this behavior.\n",
            "  _warn_prf(average, modifier, msg_start, len(result))\n",
            "/usr/local/lib/python3.10/dist-packages/sklearn/metrics/_classification.py:1344: UndefinedMetricWarning: Precision and F-score are ill-defined and being set to 0.0 in labels with no predicted samples. Use `zero_division` parameter to control this behavior.\n",
            "  _warn_prf(average, modifier, msg_start, len(result))\n",
            "/usr/local/lib/python3.10/dist-packages/sklearn/metrics/_classification.py:1344: UndefinedMetricWarning: Precision and F-score are ill-defined and being set to 0.0 in labels with no predicted samples. Use `zero_division` parameter to control this behavior.\n",
            "  _warn_prf(average, modifier, msg_start, len(result))\n"
          ]
        }
      ]
    },
    {
      "cell_type": "markdown",
      "source": [
        "Hasil laporan klasifikasi untuk model Support Vector Machine (SVM) yang di berikan adalah sebagai berikut:\n",
        "\n",
        "**Laporan Klasifikasi**:\n",
        "\n",
        "1. **Kelas -1 dan 0**: Kedua kelas ini memiliki presisi, recall, dan F1-score yang sangat rendah (0.00), yang menunjukkan bahwa model SVM hampir tidak mampu mengidentifikasi atau memprediksi sampel-sampel dari kedua kelas ini. Ini bisa menjadi masalah serius jika kelas-kelas ini memiliki arti bisnis atau analitik yang penting.\n",
        "\n",
        "2. **Kelas 1**: Kelas ini memiliki presisi sekitar 0.98, recall sekitar 1.00, dan F1-score sekitar 0.99, yang mengindikasikan bahwa model SVM sangat baik dalam mengklasifikasikan sampel-sampel kelas 1. Ini adalah aspek positif dari kinerja model.\n",
        "\n",
        "3. **Akurasi Keseluruhan**: Akurasi keseluruhan model adalah 0.98, yang tinggi. Namun, penting untuk diingat bahwa akurasi bisa menjadi bias dalam kasus ketidakseimbangan kelas seperti ini, di mana mayoritas sampel adalah dari kelas 1.\n",
        "\n",
        "**Kesimpulan**:\n",
        "\n",
        "- Model SVM memiliki kinerja yang sangat baik dalam mengidentifikasi kelas 1, dengan presisi, recall, dan F1-score yang tinggi. Ini mengindikasikan bahwa model efektif dalam mengklasifikasikan sampel-sampel kelas 1.\n",
        "\n",
        "- Namun, model sepertinya tidak efektif dalam mengidentifikasi kelas -1 dan 0, yang terlihat dari presisi, recall, dan F1-score yang sangat rendah untuk kelas-kelas ini. Ini adalah aspek negatif dari kinerja model.\n",
        "\n",
        "- Akurasi keseluruhan yang tinggi mungkin menyesatkan karena ketidakseimbangan kelas. Oleh karena itu, perlu dipertimbangkan strategi seperti penanganan ketidakseimbangan kelas atau eksplorasi model lain jika kelas -1 dan 0 juga penting dalam analisis Anda.\n",
        "\n",
        "- Dalam keseluruhan, kinerja model SVM dalam konteks ini tergantung pada pentingnya kelas-kelas tertentu dalam analisis Anda. Jika kelas 1 adalah fokus utama Anda dan kelas -1 dan 0 adalah minoritas atau kurang penting, maka model SVM mungkin cocok. Namun, jika semua kelas memiliki arti penting, perlu pertimbangan lebih lanjut dalam perbaikan kinerja model terhadap kelas minoritas."
      ],
      "metadata": {
        "id": "DPJAXyP-mm92"
      }
    },
    {
      "cell_type": "markdown",
      "source": [
        "# K-Neighbors Classifier"
      ],
      "metadata": {
        "id": "1Mk4kxRrm7dN"
      }
    },
    {
      "cell_type": "code",
      "source": [
        "# K-Neighbors Classifier\n",
        "# Import library yang dibutuhkan\n",
        "import pandas as pd\n",
        "import numpy as np\n",
        "from sklearn.model_selection import train_test_split\n",
        "from sklearn.preprocessing import StandardScaler\n",
        "from sklearn.neighbors import KNeighborsClassifier\n",
        "from sklearn.metrics import classification_report\n",
        "\n",
        "# Load dataset (gantilah 'nama_file.csv' dengan nama file dataset Anda)\n",
        "data = pd.read_csv('111.csv')\n",
        "\n",
        "# Pisahkan fitur (X) dan target (y)\n",
        "X = data[['JK', 'JW', 'PLAFOND', 'SALDO_DEBET', 'JAMINAN']]\n",
        "y = data['KOLEKTIBILITAS']\n",
        "\n",
        "# Bagi dataset menjadi data pelatihan dan data pengujian\n",
        "X_train, X_test, y_train, y_test = train_test_split(X, y, test_size=0.2, random_state=42)\n",
        "\n",
        "# Normalisasi fitur menggunakan StandardScaler\n",
        "scaler = StandardScaler()\n",
        "X_train = scaler.fit_transform(X_train)\n",
        "X_test = scaler.transform(X_test)\n",
        "\n",
        "# Inisialisasi model K-Neighbors Classifier (gantilah n_neighbors sesuai dengan kebutuhan Anda)\n",
        "knn = KNeighborsClassifier(n_neighbors=5)\n",
        "\n",
        "# Melatih model\n",
        "knn.fit(X_train, y_train)\n",
        "\n",
        "# Melakukan prediksi\n",
        "y_pred = knn.predict(X_test)\n",
        "\n",
        "# Menampilkan laporan klasifikasi\n",
        "classification_rep = classification_report(y_test, y_pred)\n",
        "print(\"Laporan Klasifikasi:\\n\", classification_rep)"
      ],
      "metadata": {
        "colab": {
          "base_uri": "https://localhost:8080/"
        },
        "id": "i8o6CM1knAYO",
        "outputId": "7b9d8c49-c1cb-4377-fe99-aa327b8bf531"
      },
      "execution_count": 12,
      "outputs": [
        {
          "output_type": "stream",
          "name": "stdout",
          "text": [
            "Laporan Klasifikasi:\n",
            "               precision    recall  f1-score   support\n",
            "\n",
            "          -1       0.00      0.00      0.00         2\n",
            "           0       0.00      0.00      0.00         2\n",
            "           1       0.98      0.99      0.99       167\n",
            "\n",
            "    accuracy                           0.97       171\n",
            "   macro avg       0.33      0.33      0.33       171\n",
            "weighted avg       0.95      0.97      0.96       171\n",
            "\n"
          ]
        },
        {
          "output_type": "stream",
          "name": "stderr",
          "text": [
            "/usr/local/lib/python3.10/dist-packages/sklearn/metrics/_classification.py:1344: UndefinedMetricWarning: Precision and F-score are ill-defined and being set to 0.0 in labels with no predicted samples. Use `zero_division` parameter to control this behavior.\n",
            "  _warn_prf(average, modifier, msg_start, len(result))\n",
            "/usr/local/lib/python3.10/dist-packages/sklearn/metrics/_classification.py:1344: UndefinedMetricWarning: Precision and F-score are ill-defined and being set to 0.0 in labels with no predicted samples. Use `zero_division` parameter to control this behavior.\n",
            "  _warn_prf(average, modifier, msg_start, len(result))\n",
            "/usr/local/lib/python3.10/dist-packages/sklearn/metrics/_classification.py:1344: UndefinedMetricWarning: Precision and F-score are ill-defined and being set to 0.0 in labels with no predicted samples. Use `zero_division` parameter to control this behavior.\n",
            "  _warn_prf(average, modifier, msg_start, len(result))\n"
          ]
        }
      ]
    },
    {
      "cell_type": "markdown",
      "source": [
        "Hasil laporan klasifikasi untuk model K-Neighbors Classifier yang di berikan adalah sebagai berikut:\n",
        "\n",
        "Laporan Klasifikasi:\n",
        "\n",
        "Kelas -1 dan 0: Kedua kelas ini memiliki presisi dan recall sekitar 0.00, yang menunjukkan bahwa model K-Neighbors Classifier hampir tidak mampu mengidentifikasi atau memprediksi sampel-sampel dari kedua kelas ini. Ini mengindikasikan kinerja yang sangat buruk dalam mengklasifikasikan sampel-sampel dari kelas -1 dan 0.\n",
        "\n",
        "Kelas 1: Kelas ini memiliki presisi sekitar 0.98, recall sekitar 0.99, dan F1-score sekitar 0.99, yang mengindikasikan bahwa model K-Neighbors Classifier sangat baik dalam mengklasifikasikan sampel-sampel kelas 1. Ini adalah aspek positif dari kinerja model.\n",
        "\n",
        "Akurasi Keseluruhan: Akurasi keseluruhan model adalah 0.97, yang tinggi. Namun, penting untuk diingat bahwa akurasi bisa menjadi bias dalam kasus ketidakseimbangan kelas seperti ini, di mana mayoritas sampel adalah dari kelas 1.\n",
        "\n",
        "Kesimpulan:\n",
        "\n",
        "Model K-Neighbors Classifier memiliki kinerja yang sangat baik dalam mengidentifikasi kelas 1, dengan presisi, recall, dan F1-score yang tinggi. Ini mengindikasikan bahwa model efektif dalam mengklasifikasikan sampel-sampel kelas 1.\n",
        "\n",
        "Namun, model sepertinya tidak efektif dalam mengidentifikasi kelas -1 dan 0, yang terlihat dari presisi dan recall yang sangat rendah untuk kelas-kelas ini. Ini adalah aspek negatif dari kinerja model.\n",
        "\n",
        "Akurasi keseluruhan yang tinggi mungkin menyesatkan karena ketidakseimbangan kelas. Oleh karena itu, perlu dipertimbangkan strategi seperti penanganan ketidakseimbangan kelas atau eksplorasi model lain jika kelas -1 dan 0 juga penting dalam analisis Anda.\n",
        "\n",
        "Dalam keseluruhan, kinerja model K-Neighbors Classifier dalam konteks ini tergantung pada pentingnya kelas-kelas tertentu dalam analisis Anda. Jika kelas 1 adalah fokus utama Anda dan kelas -1 dan 0 adalah minoritas atau kurang penting, maka model K-Neighbors Classifier mungkin cocok. Namun, jika semua kelas memiliki arti penting, perlu pertimbangan lebih lanjut dalam perbaikan kinerja model terhadap kelas minoritas."
      ],
      "metadata": {
        "id": "UilXsBQfnz_2"
      }
    },
    {
      "cell_type": "markdown",
      "source": [
        "# Decision Tree Classifier."
      ],
      "metadata": {
        "id": "ghNuYxy7n2yG"
      }
    },
    {
      "cell_type": "code",
      "source": [
        "# Decision Tree Classifier\n",
        "# Import library yang dibutuhkan\n",
        "import pandas as pd\n",
        "import numpy as np\n",
        "from sklearn.model_selection import train_test_split\n",
        "from sklearn.tree import DecisionTreeClassifier\n",
        "from sklearn.metrics import classification_report\n",
        "\n",
        "# Load dataset (gantilah 'nama_file.csv' dengan nama file dataset Anda)\n",
        "data = pd.read_csv('111.csv')\n",
        "\n",
        "# Pisahkan fitur (X) dan target (y)\n",
        "X = data[['JK', 'JW', 'PLAFOND', 'SALDO_DEBET', 'JAMINAN']]\n",
        "y = data['KOLEKTIBILITAS']\n",
        "\n",
        "# Bagi dataset menjadi data pelatihan dan data pengujian\n",
        "X_train, X_test, y_train, y_test = train_test_split(X, y, test_size=0.2, random_state=42)\n",
        "\n",
        "# Inisialisasi model Decision Tree Classifier\n",
        "decision_tree = DecisionTreeClassifier(random_state=42)\n",
        "\n",
        "# Melatih model\n",
        "decision_tree.fit(X_train, y_train)\n",
        "\n",
        "# Melakukan prediksi\n",
        "y_pred = decision_tree.predict(X_test)\n",
        "\n",
        "# Menampilkan laporan klasifikasi\n",
        "classification_rep = classification_report(y_test, y_pred)\n",
        "print(\"Laporan Klasifikasi:\\n\", classification_rep)\n"
      ],
      "metadata": {
        "colab": {
          "base_uri": "https://localhost:8080/"
        },
        "id": "VKjT4YvGn7dP",
        "outputId": "e2ffc975-bb2b-48fc-d970-a95baaaccbd4"
      },
      "execution_count": 13,
      "outputs": [
        {
          "output_type": "stream",
          "name": "stdout",
          "text": [
            "Laporan Klasifikasi:\n",
            "               precision    recall  f1-score   support\n",
            "\n",
            "          -1       0.00      0.00      0.00         2\n",
            "           0       0.00      0.00      0.00         2\n",
            "           1       0.98      0.99      0.98       167\n",
            "\n",
            "    accuracy                           0.96       171\n",
            "   macro avg       0.33      0.33      0.33       171\n",
            "weighted avg       0.95      0.96      0.96       171\n",
            "\n"
          ]
        },
        {
          "output_type": "stream",
          "name": "stderr",
          "text": [
            "/usr/local/lib/python3.10/dist-packages/sklearn/metrics/_classification.py:1344: UndefinedMetricWarning: Precision and F-score are ill-defined and being set to 0.0 in labels with no predicted samples. Use `zero_division` parameter to control this behavior.\n",
            "  _warn_prf(average, modifier, msg_start, len(result))\n",
            "/usr/local/lib/python3.10/dist-packages/sklearn/metrics/_classification.py:1344: UndefinedMetricWarning: Precision and F-score are ill-defined and being set to 0.0 in labels with no predicted samples. Use `zero_division` parameter to control this behavior.\n",
            "  _warn_prf(average, modifier, msg_start, len(result))\n",
            "/usr/local/lib/python3.10/dist-packages/sklearn/metrics/_classification.py:1344: UndefinedMetricWarning: Precision and F-score are ill-defined and being set to 0.0 in labels with no predicted samples. Use `zero_division` parameter to control this behavior.\n",
            "  _warn_prf(average, modifier, msg_start, len(result))\n"
          ]
        }
      ]
    },
    {
      "cell_type": "markdown",
      "source": [
        "Hasil laporan klasifikasi untuk model Decision Tree Classifier yang di berikan adalah sebagai berikut:\n",
        "\n",
        "**Laporan Klasifikasi**:\n",
        "\n",
        "1. **Kelas -1 dan 0**: Kedua kelas ini memiliki presisi dan recall sekitar 0.00, yang menunjukkan bahwa model Decision Tree Classifier hampir tidak mampu mengidentifikasi atau memprediksi sampel-sampel dari kedua kelas ini. Ini mengindikasikan kinerja yang sangat buruk dalam mengklasifikasikan sampel-sampel dari kelas -1 dan 0.\n",
        "\n",
        "2. **Kelas 1**: Kelas ini memiliki presisi sekitar 0.98, recall sekitar 0.99, dan F1-score sekitar 0.98, yang mengindikasikan bahwa model Decision Tree Classifier sangat baik dalam mengklasifikasikan sampel-sampel kelas 1. Ini adalah aspek positif dari kinerja model.\n",
        "\n",
        "3. **Akurasi Keseluruhan**: Akurasi keseluruhan model adalah 0.96, yang tinggi. Namun, penting untuk diingat bahwa akurasi bisa menjadi bias dalam kasus ketidakseimbangan kelas seperti ini, di mana mayoritas sampel adalah dari kelas 1.\n",
        "\n",
        "**Kesimpulan**:\n",
        "\n",
        "- Model Decision Tree Classifier memiliki kinerja yang sangat baik dalam mengidentifikasi kelas 1, dengan presisi, recall, dan F1-score yang tinggi. Ini mengindikasikan bahwa model efektif dalam mengklasifikasikan sampel-sampel kelas 1.\n",
        "\n",
        "- Namun, model sepertinya tidak efektif dalam mengidentifikasi kelas -1 dan 0, yang terlihat dari presisi dan recall yang sangat rendah untuk kelas-kelas ini. Ini adalah aspek negatif dari kinerja model.\n",
        "\n",
        "- Akurasi keseluruhan yang tinggi mungkin menyesatkan karena ketidakseimbangan kelas. Oleh karena itu, perlu dipertimbangkan strategi seperti penanganan ketidakseimbangan kelas atau eksplorasi model lain jika kelas -1 dan 0 juga penting dalam analisis Anda.\n",
        "\n",
        "- Dalam keseluruhan, kinerja model Decision Tree Classifier dalam konteks ini tergantung pada pentingnya kelas-kelas tertentu dalam analisis Anda. Jika kelas 1 adalah fokus utama Anda dan kelas -1 dan 0 adalah minoritas atau kurang penting, maka model Decision Tree Classifier mungkin cocok. Namun, jika semua kelas memiliki arti penting, perlu pertimbangan lebih lanjut dalam perbaikan kinerja model terhadap kelas minoritas."
      ],
      "metadata": {
        "id": "2MqIFkTqog1B"
      }
    },
    {
      "cell_type": "markdown",
      "source": [
        "# Random Forest Classifier"
      ],
      "metadata": {
        "id": "TkSFKSIYokFR"
      }
    },
    {
      "cell_type": "code",
      "source": [
        "# Random Forest Classifier\n",
        "# Import library yang dibutuhkan\n",
        "import pandas as pd\n",
        "import numpy as np\n",
        "from sklearn.model_selection import train_test_split\n",
        "from sklearn.ensemble import RandomForestClassifier\n",
        "from sklearn.metrics import classification_report\n",
        "\n",
        "# Load dataset (gantilah 'nama_file.csv' dengan nama file dataset Anda)\n",
        "data = pd.read_csv('111.csv')\n",
        "\n",
        "# Pisahkan fitur (X) dan target (y)\n",
        "X = data[['JK', 'JW', 'PLAFOND', 'SALDO_DEBET', 'JAMINAN']]\n",
        "y = data['KOLEKTIBILITAS']\n",
        "\n",
        "# Bagi dataset menjadi data pelatihan dan data pengujian\n",
        "X_train, X_test, y_train, y_test = train_test_split(X, y, test_size=0.2, random_state=42)\n",
        "\n",
        "# Inisialisasi model Random Forest Classifier\n",
        "random_forest = RandomForestClassifier(random_state=42)\n",
        "\n",
        "# Melatih model\n",
        "random_forest.fit(X_train, y_train)\n",
        "\n",
        "# Melakukan prediksi\n",
        "y_pred = random_forest.predict(X_test)\n",
        "\n",
        "# Menampilkan laporan klasifikasi\n",
        "classification_rep = classification_report(y_test, y_pred)\n",
        "print(\"Laporan Klasifikasi:\\n\", classification_rep)\n"
      ],
      "metadata": {
        "colab": {
          "base_uri": "https://localhost:8080/"
        },
        "id": "Km-XoeVKooe4",
        "outputId": "8b0d77ac-2e57-4356-a456-1d2311f27052"
      },
      "execution_count": 14,
      "outputs": [
        {
          "output_type": "stream",
          "name": "stdout",
          "text": [
            "Laporan Klasifikasi:\n",
            "               precision    recall  f1-score   support\n",
            "\n",
            "          -1       0.00      0.00      0.00         2\n",
            "           0       0.00      0.00      0.00         2\n",
            "           1       0.98      0.99      0.98       167\n",
            "\n",
            "    accuracy                           0.96       171\n",
            "   macro avg       0.33      0.33      0.33       171\n",
            "weighted avg       0.95      0.96      0.96       171\n",
            "\n"
          ]
        }
      ]
    },
    {
      "cell_type": "markdown",
      "source": [
        "Hasil laporan klasifikasi untuk model Random Forest Classifier yang di berikan adalah sebagai berikut:\n",
        "\n",
        "**Laporan Klasifikasi**:\n",
        "\n",
        "1. **Kelas -1 dan 0**: Kedua kelas ini memiliki presisi dan recall sekitar 0.00, yang menunjukkan bahwa model Random Forest Classifier hampir tidak mampu mengidentifikasi atau memprediksi sampel-sampel dari kedua kelas ini. Ini mengindikasikan kinerja yang sangat buruk dalam mengklasifikasikan sampel-sampel dari kelas -1 dan 0.\n",
        "\n",
        "2. **Kelas 1**: Kelas ini memiliki presisi sekitar 0.98, recall sekitar 0.99, dan F1-score sekitar 0.98, yang mengindikasikan bahwa model Random Forest Classifier sangat baik dalam mengklasifikasikan sampel-sampel kelas 1. Ini adalah aspek positif dari kinerja model.\n",
        "\n",
        "3. **Akurasi Keseluruhan**: Akurasi keseluruhan model adalah 0.96, yang tinggi. Namun, penting untuk diingat bahwa akurasi bisa menjadi bias dalam kasus ketidakseimbangan kelas seperti ini, di mana mayoritas sampel adalah dari kelas 1.\n",
        "\n",
        "**Kesimpulan**:\n",
        "\n",
        "- Model Random Forest Classifier memiliki kinerja yang sangat baik dalam mengidentifikasi kelas 1, dengan presisi, recall, dan F1-score yang tinggi. Ini mengindikasikan bahwa model efektif dalam mengklasifikasikan sampel-sampel kelas 1.\n",
        "\n",
        "- Namun, model sepertinya tidak efektif dalam mengidentifikasi kelas -1 dan 0, yang terlihat dari presisi dan recall yang sangat rendah untuk kelas-kelas ini. Ini adalah aspek negatif dari kinerja model.\n",
        "\n",
        "- Akurasi keseluruhan yang tinggi mungkin menyesatkan karena ketidakseimbangan kelas. Oleh karena itu, perlu dipertimbangkan strategi seperti penanganan ketidakseimbangan kelas atau eksplorasi model lain jika kelas -1 dan 0 juga penting dalam analisis Anda.\n",
        "\n",
        "- Dalam keseluruhan, kinerja model Random Forest Classifier dalam konteks ini tergantung pada pentingnya kelas-kelas tertentu dalam analisis Anda. Jika kelas 1 adalah fokus utama Anda dan kelas -1 dan 0 adalah minoritas atau kurang penting, maka model Random Forest Classifier mungkin cocok. Namun, jika semua kelas memiliki arti penting, perlu pertimbangan lebih lanjut dalam perbaikan kinerja model terhadap kelas minoritas."
      ],
      "metadata": {
        "id": "dJe72_FnpIAF"
      }
    },
    {
      "cell_type": "markdown",
      "source": [
        "# XGBoost Classifier"
      ],
      "metadata": {
        "id": "5txVZOn1pKCS"
      }
    },
    {
      "cell_type": "code",
      "source": [
        "# XGBoost Classifier\n",
        "# Import library yang dibutuhkan\n",
        "import pandas as pd\n",
        "import numpy as np\n",
        "from sklearn.model_selection import train_test_split\n",
        "from xgboost import XGBClassifier\n",
        "from sklearn.metrics import classification_report\n",
        "\n",
        "# Load dataset (gantilah 'nama_file.csv' dengan nama file dataset Anda)\n",
        "data = pd.read_csv('XGBoostClassifier.csv')\n",
        "\n",
        "# Pisahkan fitur (X) dan target (y)\n",
        "X = data[['JK', 'JW', 'PLAFOND', 'SALDO_DEBET', 'JAMINAN']]\n",
        "y = data['KOLEKTIBILITAS']\n",
        "\n",
        "# Bagi dataset menjadi data pelatihan dan data pengujian\n",
        "X_train, X_test, y_train, y_test = train_test_split(X, y, test_size=0.2, random_state=42)\n",
        "\n",
        "# Inisialisasi model XGBoost Classifier\n",
        "xgb_classifier = XGBClassifier(random_state=42)\n",
        "\n",
        "# Melatih model\n",
        "xgb_classifier.fit(X_train, y_train)\n",
        "\n",
        "# Melakukan prediksi\n",
        "y_pred = xgb_classifier.predict(X_test)\n",
        "\n",
        "# Menampilkan laporan klasifikasi\n",
        "classification_rep = classification_report(y_test, y_pred)\n",
        "print(\"Laporan Klasifikasi:\\n\", classification_rep)\n"
      ],
      "metadata": {
        "colab": {
          "base_uri": "https://localhost:8080/"
        },
        "id": "XoJ_ojNppNKE",
        "outputId": "3244a69d-ff97-4939-ccf6-bc1887b111d5"
      },
      "execution_count": 16,
      "outputs": [
        {
          "output_type": "stream",
          "name": "stdout",
          "text": [
            "Laporan Klasifikasi:\n",
            "               precision    recall  f1-score   support\n",
            "\n",
            "           0       0.00      0.00      0.00         2\n",
            "           1       0.98      0.99      0.98       167\n",
            "           2       0.00      0.00      0.00         2\n",
            "\n",
            "    accuracy                           0.96       171\n",
            "   macro avg       0.33      0.33      0.33       171\n",
            "weighted avg       0.95      0.96      0.96       171\n",
            "\n"
          ]
        },
        {
          "output_type": "stream",
          "name": "stderr",
          "text": [
            "/usr/local/lib/python3.10/dist-packages/sklearn/metrics/_classification.py:1344: UndefinedMetricWarning: Precision and F-score are ill-defined and being set to 0.0 in labels with no predicted samples. Use `zero_division` parameter to control this behavior.\n",
            "  _warn_prf(average, modifier, msg_start, len(result))\n",
            "/usr/local/lib/python3.10/dist-packages/sklearn/metrics/_classification.py:1344: UndefinedMetricWarning: Precision and F-score are ill-defined and being set to 0.0 in labels with no predicted samples. Use `zero_division` parameter to control this behavior.\n",
            "  _warn_prf(average, modifier, msg_start, len(result))\n",
            "/usr/local/lib/python3.10/dist-packages/sklearn/metrics/_classification.py:1344: UndefinedMetricWarning: Precision and F-score are ill-defined and being set to 0.0 in labels with no predicted samples. Use `zero_division` parameter to control this behavior.\n",
            "  _warn_prf(average, modifier, msg_start, len(result))\n"
          ]
        }
      ]
    },
    {
      "cell_type": "markdown",
      "source": [
        "Hasil laporan klasifikasi untuk model XGBoost Classifier yang di berikan adalah sebagai berikut:\n",
        "\n",
        "**Laporan Klasifikasi**:\n",
        "\n",
        "1. **Kelas 0**: Kelas ini memiliki presisi sekitar 0.00, recall sekitar 0.00, dan F1-score sekitar 0.00, yang menunjukkan bahwa model XGBoost Classifier hampir tidak mampu mengidentifikasi atau memprediksi sampel-sampel dari kelas 0. Ini mengindikasikan kinerja yang sangat buruk dalam mengklasifikasikan sampel-sampel dari kelas 0.\n",
        "\n",
        "2. **Kelas 1**: Kelas ini memiliki presisi sekitar 0.98, recall sekitar 0.99, dan F1-score sekitar 0.98, yang mengindikasikan bahwa model XGBoost Classifier sangat baik dalam mengklasifikasikan sampel-sampel kelas 1. Ini adalah aspek positif dari kinerja model.\n",
        "\n",
        "3. **Kelas 2**: Kelas ini juga memiliki presisi dan recall sekitar 0.00, dan F1-score sekitar 0.00, yang menunjukkan bahwa model hampir tidak mampu mengidentifikasi atau memprediksi sampel-sampel dari kelas 2.\n",
        "\n",
        "4. **Akurasi Keseluruhan**: Akurasi keseluruhan model adalah 0.96, yang tinggi. Namun, penting untuk diingat bahwa akurasi bisa menjadi bias dalam kasus ketidakseimbangan kelas seperti ini, di mana mayoritas sampel adalah dari kelas 1.\n",
        "\n",
        "**Kesimpulan**:\n",
        "\n",
        "- Model XGBoost Classifier memiliki kinerja yang sangat baik dalam mengidentifikasi kelas 1, dengan presisi, recall, dan F1-score yang tinggi. Ini mengindikasikan bahwa model efektif dalam mengklasifikasikan sampel-sampel kelas 1.\n",
        "\n",
        "- Namun, model sepertinya tidak efektif dalam mengidentifikasi kelas 0 dan 2, yang terlihat dari presisi, recall, dan F1-score yang sangat rendah untuk kelas-kelas ini. Ini adalah aspek negatif dari kinerja model.\n",
        "\n",
        "- Akurasi keseluruhan yang tinggi mungkin menyesatkan karena ketidakseimbangan kelas. Oleh karena itu, perlu dipertimbangkan strategi seperti penanganan ketidakseimbangan kelas atau eksplorasi model lain jika kelas 0 dan 2 juga penting dalam analisis Anda.\n",
        "\n",
        "- Dalam keseluruhan, kinerja model XGBoost Classifier dalam konteks ini tergantung pada pentingnya kelas-kelas tertentu dalam analisis Anda. Jika kelas 1 adalah fokus utama Anda dan kelas 0 dan 2 adalah minoritas atau kurang penting, maka model XGBoost Classifier mungkin cocok. Namun, jika semua kelas memiliki arti penting, perlu pertimbangan lebih lanjut dalam perbaikan kinerja model terhadap kelas minoritas."
      ],
      "metadata": {
        "id": "5CnIse7vqKrS"
      }
    },
    {
      "cell_type": "markdown",
      "source": [
        "# Light Gradient Boosting Machine Classifier"
      ],
      "metadata": {
        "id": "eHL2QVRrqNUR"
      }
    },
    {
      "cell_type": "code",
      "source": [
        "# Light Gradient Boosting Machine Classifier\n",
        "# Import library yang dibutuhkan\n",
        "import pandas as pd\n",
        "import numpy as np\n",
        "from sklearn.model_selection import train_test_split\n",
        "import lightgbm as lgb\n",
        "from sklearn.metrics import classification_report\n",
        "\n",
        "# Load dataset (gantilah 'nama_file.csv' dengan nama file dataset Anda)\n",
        "data = pd.read_csv('111.csv')\n",
        "\n",
        "# Pisahkan fitur (X) dan target (y)\n",
        "X = data[['JK', 'JW', 'PLAFOND', 'SALDO_DEBET', 'JAMINAN']]\n",
        "y = data['KOLEKTIBILITAS']\n",
        "\n",
        "# Bagi dataset menjadi data pelatihan dan data pengujian\n",
        "X_train, X_test, y_train, y_test = train_test_split(X, y, test_size=0.2, random_state=42)\n",
        "\n",
        "# Konversi dataset ke dalam format Dataset LightGBM\n",
        "train_data = lgb.Dataset(X_train, label=y_train)\n",
        "\n",
        "# Parameter untuk model LightGBM\n",
        "params = {\n",
        "    'objective': 'binary',\n",
        "    'metric': 'binary_error',\n",
        "    'boosting_type': 'gbdt',\n",
        "    'num_leaves': 31,\n",
        "    'learning_rate': 0.05,\n",
        "    'feature_fraction': 0.9\n",
        "}\n",
        "\n",
        "# Inisialisasi model LightGBM Classifier\n",
        "lgb_classifier = lgb.train(params, train_data, num_boost_round=100)\n",
        "\n",
        "# Melakukan prediksi\n",
        "y_pred_prob = lgb_classifier.predict(X_test, num_iteration=lgb_classifier.best_iteration)\n",
        "y_pred = [1 if pred > 0.5 else 0 for pred in y_pred_prob]\n",
        "\n",
        "# Menampilkan laporan klasifikasi\n",
        "classification_rep = classification_report(y_test, y_pred)\n",
        "print(\"Laporan Klasifikasi:\\n\", classification_rep)\n"
      ],
      "metadata": {
        "colab": {
          "base_uri": "https://localhost:8080/"
        },
        "id": "2CwIn9t-qV1B",
        "outputId": "d5425baa-492b-4fa6-c529-4292e228a521"
      },
      "execution_count": 19,
      "outputs": [
        {
          "output_type": "stream",
          "name": "stdout",
          "text": [
            "[LightGBM] [Info] Number of positive: 660, number of negative: 20\n",
            "[LightGBM] [Warning] Auto-choosing col-wise multi-threading, the overhead of testing was 0.000050 seconds.\n",
            "You can set `force_col_wise=true` to remove the overhead.\n",
            "[LightGBM] [Info] Total Bins 313\n",
            "[LightGBM] [Info] Number of data points in the train set: 680, number of used features: 5\n",
            "[LightGBM] [Info] [binary:BoostFromScore]: pavg=0.970588 -> initscore=3.496508\n",
            "[LightGBM] [Info] Start training from score 3.496508\n",
            "[LightGBM] [Warning] No further splits with positive gain, best gain: -inf\n",
            "[LightGBM] [Warning] No further splits with positive gain, best gain: -inf\n",
            "[LightGBM] [Warning] No further splits with positive gain, best gain: -inf\n",
            "[LightGBM] [Warning] No further splits with positive gain, best gain: -inf\n",
            "[LightGBM] [Warning] No further splits with positive gain, best gain: -inf\n",
            "[LightGBM] [Warning] No further splits with positive gain, best gain: -inf\n",
            "[LightGBM] [Warning] No further splits with positive gain, best gain: -inf\n",
            "[LightGBM] [Warning] No further splits with positive gain, best gain: -inf\n",
            "[LightGBM] [Warning] No further splits with positive gain, best gain: -inf\n",
            "[LightGBM] [Warning] No further splits with positive gain, best gain: -inf\n",
            "[LightGBM] [Warning] No further splits with positive gain, best gain: -inf\n",
            "[LightGBM] [Warning] No further splits with positive gain, best gain: -inf\n",
            "[LightGBM] [Warning] No further splits with positive gain, best gain: -inf\n",
            "[LightGBM] [Warning] No further splits with positive gain, best gain: -inf\n",
            "[LightGBM] [Warning] No further splits with positive gain, best gain: -inf\n",
            "[LightGBM] [Warning] No further splits with positive gain, best gain: -inf\n",
            "[LightGBM] [Warning] No further splits with positive gain, best gain: -inf\n",
            "[LightGBM] [Warning] No further splits with positive gain, best gain: -inf\n",
            "[LightGBM] [Warning] No further splits with positive gain, best gain: -inf\n",
            "[LightGBM] [Warning] No further splits with positive gain, best gain: -inf\n",
            "[LightGBM] [Warning] No further splits with positive gain, best gain: -inf\n",
            "[LightGBM] [Warning] No further splits with positive gain, best gain: -inf\n",
            "[LightGBM] [Warning] No further splits with positive gain, best gain: -inf\n",
            "[LightGBM] [Warning] No further splits with positive gain, best gain: -inf\n",
            "[LightGBM] [Warning] No further splits with positive gain, best gain: -inf\n",
            "[LightGBM] [Warning] No further splits with positive gain, best gain: -inf\n",
            "[LightGBM] [Warning] No further splits with positive gain, best gain: -inf\n",
            "[LightGBM] [Warning] No further splits with positive gain, best gain: -inf\n",
            "[LightGBM] [Warning] No further splits with positive gain, best gain: -inf\n",
            "Laporan Klasifikasi:\n",
            "               precision    recall  f1-score   support\n",
            "\n",
            "          -1       0.00      0.00      0.00         2\n",
            "           0       0.00      0.00      0.00         2\n",
            "           1       0.98      0.99      0.98       167\n",
            "\n",
            "    accuracy                           0.96       171\n",
            "   macro avg       0.33      0.33      0.33       171\n",
            "weighted avg       0.95      0.96      0.96       171\n",
            "\n"
          ]
        },
        {
          "output_type": "stream",
          "name": "stderr",
          "text": [
            "/usr/local/lib/python3.10/dist-packages/sklearn/metrics/_classification.py:1344: UndefinedMetricWarning: Precision and F-score are ill-defined and being set to 0.0 in labels with no predicted samples. Use `zero_division` parameter to control this behavior.\n",
            "  _warn_prf(average, modifier, msg_start, len(result))\n",
            "/usr/local/lib/python3.10/dist-packages/sklearn/metrics/_classification.py:1344: UndefinedMetricWarning: Precision and F-score are ill-defined and being set to 0.0 in labels with no predicted samples. Use `zero_division` parameter to control this behavior.\n",
            "  _warn_prf(average, modifier, msg_start, len(result))\n",
            "/usr/local/lib/python3.10/dist-packages/sklearn/metrics/_classification.py:1344: UndefinedMetricWarning: Precision and F-score are ill-defined and being set to 0.0 in labels with no predicted samples. Use `zero_division` parameter to control this behavior.\n",
            "  _warn_prf(average, modifier, msg_start, len(result))\n"
          ]
        }
      ]
    },
    {
      "cell_type": "markdown",
      "source": [
        "Hasil laporan klasifikasi untuk model XGBoost Classifier yang di berikan adalah sebagai berikut:\n",
        "\n",
        "**Laporan Klasifikasi**:\n",
        "\n",
        "1. **Kelas -1 dan 0**: Kedua kelas ini memiliki presisi dan recall sekitar 0.00, yang menunjukkan bahwa model XGBoost Classifier hampir tidak mampu mengidentifikasi atau memprediksi sampel-sampel dari kedua kelas ini. Ini mengindikasikan kinerja yang sangat buruk dalam mengklasifikasikan sampel-sampel dari kelas -1 dan 0.\n",
        "\n",
        "2. **Kelas 1**: Kelas ini memiliki presisi sekitar 0.98, recall sekitar 0.99, dan F1-score sekitar 0.98, yang mengindikasikan bahwa model XGBoost Classifier sangat baik dalam mengklasifikasikan sampel-sampel kelas 1. Ini adalah aspek positif dari kinerja model.\n",
        "\n",
        "3. **Akurasi Keseluruhan**: Akurasi keseluruhan model adalah 0.96, yang tinggi. Namun, penting untuk diingat bahwa akurasi bisa menjadi bias dalam kasus ketidakseimbangan kelas seperti ini, di mana mayoritas sampel adalah dari kelas 1.\n",
        "\n",
        "**Kesimpulan**:\n",
        "\n",
        "- Model XGBoost Classifier memiliki kinerja yang sangat baik dalam mengidentifikasi kelas 1, dengan presisi, recall, dan F1-score yang tinggi. Ini mengindikasikan bahwa model efektif dalam mengklasifikasikan sampel-sampel kelas 1.\n",
        "\n",
        "- Namun, model sepertinya tidak efektif dalam mengidentifikasi kelas -1 dan 0, yang terlihat dari presisi dan recall yang sangat rendah untuk kelas-kelas ini. Ini adalah aspek negatif dari kinerja model.\n",
        "\n",
        "- Akurasi keseluruhan yang tinggi mungkin menyesatkan karena ketidakseimbangan kelas. Oleh karena itu, perlu dipertimbangkan strategi seperti penanganan ketidakseimbangan kelas atau eksplorasi model lain jika kelas -1 dan 0 juga penting dalam analisis Anda.\n",
        "\n",
        "- Dalam keseluruhan, kinerja model XGBoost Classifier dalam konteks ini tergantung pada pentingnya kelas-kelas tertentu dalam analisis Anda. Jika kelas 1 adalah fokus utama Anda dan kelas -1 dan 0 adalah minoritas atau kurang penting, maka model XGBoost Classifier mungkin cocok. Namun, jika semua kelas memiliki arti penting, perlu pertimbangan lebih lanjut dalam perbaikan kinerja model terhadap kelas minoritas."
      ],
      "metadata": {
        "id": "nTxtRO5LrCWt"
      }
    },
    {
      "cell_type": "markdown",
      "source": [
        "# Kesimpulan\n",
        "\n",
        "Dalam analisis hasil dari 7 model klasifikasi yang diberikan, kita akan mempertimbangkan beberapa metrik evaluasi utama, yaitu presisi (precision), recall, dan f1-score, serta akurasi secara umum. Metrik-metrik ini membantu kita memahami sejauh mana performa setiap model dalam mengklasifikasikan data. Berikut adalah hasil analisis dan kesimpulan:\n",
        "\n",
        "1. **Logistic Regression Classifier:**\n",
        "   - Precision: 0.98\n",
        "   - Recall: 1.00\n",
        "   - F1-Score: 0.99\n",
        "   - Akurasi: 0.98\n",
        "\n",
        "2. **Support Vector Machine (SVM) Classifier:**\n",
        "   - Precision: 0.98\n",
        "   - Recall: 1.00\n",
        "   - F1-Score: 0.99\n",
        "   - Akurasi: 0.98\n",
        "\n",
        "3. **K-Neighbors Classifier:**\n",
        "   - Precision: 0.98\n",
        "   - Recall: 0.99\n",
        "   - F1-Score: 0.99\n",
        "   - Akurasi: 0.97\n",
        "\n",
        "4. **Decision Tree Classifier:**\n",
        "   - Precision: 0.98\n",
        "   - Recall: 0.99\n",
        "   - F1-Score: 0.98\n",
        "   - Akurasi: 0.96\n",
        "\n",
        "5. **Random Forest Classifier:**\n",
        "   - Precision: 0.98\n",
        "   - Recall: 0.99\n",
        "   - F1-Score: 0.98\n",
        "   - Akurasi: 0.96\n",
        "\n",
        "6. **XGBoost Classifier:**\n",
        "   - Precision: 0.98\n",
        "   - Recall: 0.99\n",
        "   - F1-Score: 0.98\n",
        "   - Akurasi: 0.96\n",
        "\n",
        "7. **Light Gradient Boosting Machine (LGBM) Classifier:**\n",
        "   - Precision: 0.98\n",
        "   - Recall: 0.99\n",
        "   - F1-Score: 0.98\n",
        "   - Akurasi: 0.96\n",
        "\n",
        "Berdasarkan hasil di atas, model Logistic Regression dan SVM memiliki performa yang hampir sama dengan nilai presisi, recall, f1-score, dan akurasi yang tinggi. Keduanya memiliki nilai f1-score sekitar 0.99, yang menunjukkan kemampuan yang baik dalam melakukan klasifikasi.\n",
        "\n",
        "Meskipun model K-Neighbors Classifier juga memiliki kinerja yang baik, namun sedikit lebih rendah dibandingkan dengan Logistic Regression dan SVM dalam hal akurasi.\n",
        "\n",
        "Sementara itu, model Decision Tree, Random Forest, XGBoost, dan LGBM Classifier memiliki performa yang serupa dengan nilai f1-score dan akurasi sekitar 0.96. Namun, mereka memiliki nilai presisi dan recall yang lebih rendah dibandingkan dengan Logistic Regression dan SVM.\n",
        "\n",
        "Jadi, berdasarkan hasil ini, baik Logistic Regression maupun SVM dapat dianggap sebagai model terbaik tergantung pada faktor-faktor seperti kecepatan pelatihan dan interpretabilitas yang mungkin perlu dipertimbangkan dalam konteks aplikasi tertentu. Namun, secara umum, kedua model ini memiliki kinerja yang sangat baik dalam tugas klasifikasi ini."
      ],
      "metadata": {
        "id": "0oa3od_QsfNs"
      }
    }
  ]
}